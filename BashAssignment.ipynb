{
  "nbformat": 4,
  "nbformat_minor": 0,
  "metadata": {
    "colab": {
      "provenance": []
    },
    "kernelspec": {
      "name": "python3",
      "display_name": "Python 3"
    },
    "language_info": {
      "name": "python"
    }
  },
  "cells": [
    {
      "cell_type": "code",
      "execution_count": null,
      "metadata": {
        "id": "zNzGv9Wg6TMz"
      },
      "outputs": [],
      "source": [
        "# Task 1: File Management Script\n",
        "'''\n",
        "Write a Bash script that\n",
        "- Creates a directory named \"backup\" in the user's home directory\n",
        "- Copies all .txt files from the current directory into the \"backup\" directory\n",
        "- Appends the current date and time to the filenames of the copied files. '''"
      ]
    },
    {
      "cell_type": "code",
      "source": [
        "Task 1 - File Management Script - Solution\n",
        "\n",
        "#!/bin/bash\n",
        "\n",
        "BACKUP_DIR=\"$HOME/backup\"\n",
        "\n",
        "mkdir -p \"$BACKUP_DIR\"\n",
        "\n",
        "TIMESTAMP=$(date +\"%Y-%m-%d_%H:%M:%S\")\n",
        "\n",
        "for file in *.txt; do\n",
        "        [ -e \"$file\" ] || { echo \"No .txt file exists.\"; exit 1; }\n",
        "        filename=$(basename \"$file\" .txt)\n",
        "        cp \"$file\" \"$BACKUP_DIR/${filename}_${TIMESTAMP}.txt\"\n",
        "done\n",
        "\n",
        "echo\n",
        "echo \"Backup completed successfully. Files are saved in $BACKUP_DIR\""
      ],
      "metadata": {
        "id": "3shyzurc7B1w"
      },
      "execution_count": null,
      "outputs": []
    },
    {
      "cell_type": "code",
      "source": [
        "# Task 2: System Health Check\n",
        "'''\n",
        "Create a script that\n",
        "- Checks the system’s CPU and memory usage\n",
        "- Reports if the CPU usage is above 80% or if the available memory is below 20%\n",
        "- Logs the results to a file named system_health.log. '''"
      ],
      "metadata": {
        "id": "Xp7H_CXV_53W"
      },
      "execution_count": null,
      "outputs": []
    },
    {
      "cell_type": "code",
      "source": [
        "Task 2 - System Health Check - Solution\n",
        "\n",
        "#!/bin/bash\n",
        "\n",
        "LOG_FILE=\"$HOME/Desktop/bash_dir/system_health.log\"\n",
        "TIMESTAMP=$(date '+%Y-%m-%d %H:%M:%S')\n",
        "\n",
        "DISK_USAGE=$(df -H / | awk 'NR==2 {gsub(\"%\",\"\",$5); print int($5)}')\n",
        "DISK_FREE=$((100 - DISK_USAGE))\n",
        "\n",
        "CPU_IDLE=$(top -bn1 | awk '/Cpu\\(s\\)/ {print int($8)}')\n",
        "CPU_USAGE=$((100 - CPU_IDLE))\n",
        "\n",
        "if [[ \"$DISK_FREE\" -lt 20 || \"$CPU_USAGE\" -gt 80 ]]; then\n",
        "        echo \"$TIMESTAMP - System Warning! - Disk Available: ${DISK_FREE}%, CPU Usage: ${CPU_USAGE}%\" >> $LOG_FILE\n",
        "else\n",
        "        echo \"$TIMESTAMP - System Ok! - Disk Available: ${DISK_FREE}%, CPU Usage: ${CPU_USAGE}%\" >> $LOG_FILE\n",
        "fi\n",
        "\n",
        "echo\n",
        "echo \"The system health check completed successfully.\""
      ],
      "metadata": {
        "id": "aMrSPioEADk4"
      },
      "execution_count": null,
      "outputs": []
    },
    {
      "cell_type": "code",
      "source": [
        "# Task 3: User Account Management\n",
        "'''\n",
        "Write a script that\n",
        "- Reads a list of usernames from a file (e.g., user_list.txt)\n",
        "- Creates a new user for each username\n",
        "- Generates a random password for each user and saves the username and password to a file named\n",
        "credentials.txt '''"
      ],
      "metadata": {
        "id": "t3tEMDJXWXyr"
      },
      "execution_count": null,
      "outputs": []
    },
    {
      "cell_type": "code",
      "source": [
        "Task 3 - User Account Management - Solution\n",
        "\n",
        "#!/bin/bash\n",
        "\n",
        "USER_LIST=\"$HOME/user_list.txt\"\n",
        "CREDENTIALS_FILE=\"$HOME/credentials.txt\"\n",
        "\n",
        "if [[ ! -f \"$USER_LIST\" ]]; then\n",
        "        echo \"Error: $USER_LIST not found!\"\n",
        "        exit 1\n",
        "else\n",
        "        echo \"$USER_LIST is found. Processing...\"\n",
        "fi\n",
        "\n",
        "while IFS= read -r USERNAME; do\n",
        "        [[ -z \"$USERNAME\" ]] && continue\n",
        "        PASSWORD=$(openssl rand -base64 9)\n",
        "\n",
        "        if id \"$USERNAME\" &>/dev/null; then\n",
        "                echo \"User $USERNAME already exists. Skipping...\"\n",
        "        else\n",
        "                sudo useradd \"$USERNAME\"\n",
        "                echo \"$USERNAME:$PASSWORD\" | sudo chpasswd\n",
        "                echo \"Created user $USERNAME\"\n",
        "        fi\n",
        "        echo \"$USERNAME : $PASSWORD\" >> \"$CREDENTIALS_FILE\"\n",
        "done < \"$USER_LIST\"\n",
        "\n",
        "echo\n",
        "echo \"All users processed successfully.\"\n"
      ],
      "metadata": {
        "id": "IDYa9YiPWkVM"
      },
      "execution_count": null,
      "outputs": []
    },
    {
      "cell_type": "code",
      "source": [
        "# Task 4: Automated Backup\n",
        "'''\n",
        "Create a script that\n",
        "- Takes a directory path as input from the user\n",
        "- Compresses the directory into a .tar.gz file\n",
        "- Saves the compressed file with a name that includes the current date (e.g., backup_2023-08-20.tar.gz). '''"
      ],
      "metadata": {
        "id": "Wltf06r19clk"
      },
      "execution_count": null,
      "outputs": []
    },
    {
      "cell_type": "code",
      "source": [
        "Task 4 - Automated Backup - Solution\n",
        "\n",
        "#!/bin/bash\n",
        "\n",
        "read -p \"Enter the directory path for backup: \" DIR_PATH\n",
        "\n",
        "if [ ! -d \"$DIR_PATH\" ]; then\n",
        "        echo \"ERROR: Directory '${DIR_PATH}' not found!\"\n",
        "        exit 1\n",
        "else\n",
        "        echo \"SUCCESS: Directory '${DIR_PATH}' found! Processing...\"\n",
        "fi\n",
        "\n",
        "TIMESTAMP=$(date +\"%Y-%m-%d\")\n",
        "BACKUP_DIR=\"$HOME/Backup_dir\"\n",
        "\n",
        "mkdir -p \"$BACKUP_DIR\"\n",
        "\n",
        "BACKUP_FILE=\"$BACKUP_DIR/backup_${TIMESTAMP}.tar.gz\"\n",
        "\n",
        "echo \"Starting backup of '${DIR_PATH}'...\"\n",
        "sleep 1\n",
        "\n",
        "tar -czf \"$BACKUP_FILE\" -C \"$(dirname \"$DIR_PATH\")\" \"$(basename \"$DIR_PATH\")\"\n",
        "\n",
        "if [ $? -eq 0 ]; then\n",
        "        echo \"Backup successful! Archive created at: $BACKUP_FILE\"\n",
        "else\n",
        "        echo \"Backup failed. Check for errors.\"\n",
        "        rm \"$BACKUP_FILE\"\n",
        "        exit 1\n",
        "fi"
      ],
      "metadata": {
        "id": "IXEw-Kbs9o0z"
      },
      "execution_count": null,
      "outputs": []
    },
    {
      "cell_type": "code",
      "source": [
        "# Task 5: Simple To-Do List\n",
        "'''\n",
        "Create a Bash script that\n",
        "- Implements a simple command-line to-do list\n",
        "- Allows the user to add tasks, view tasks, and remove tasks\n",
        "- Saves the tasks to a file (e.g., todo.txt). '''"
      ],
      "metadata": {
        "id": "VZ08o382JNhl"
      },
      "execution_count": null,
      "outputs": []
    },
    {
      "cell_type": "code",
      "source": [
        "Task 5 - Simple To-Do List - Solution\n",
        "\n",
        "#!/bin/bash\n",
        "\n",
        "TODO_FILE=\"$HOME/Desktop/bash_dir/todo.txt\"\n",
        "\n",
        "touch \"$TODO_FILE\"\n",
        "\n",
        "show_menu() {\n",
        "        echo\n",
        "        echo \"====== 📝 SIMPLE TO-DO LIST ======\"\n",
        "        echo \"1️⃣  View Tasks\"\n",
        "        echo \"2️⃣  Add Task\"\n",
        "        echo \"3️⃣  Remove Task\"\n",
        "        echo \"4️⃣  Exit\"\n",
        "        echo \"==================================\"\n",
        "        echo\n",
        "}\n",
        "\n",
        "view_tasks() {\n",
        "        if [[ ! -s \"$TODO_FILE\" ]]; then\n",
        "                echo \"No tasks found. Your to-do list is empty.\"\n",
        "        else\n",
        "                echo \"Your current tasks:\"\n",
        "                nl -w2 -s'. ' \"$TODO_FILE\"\n",
        "        fi\n",
        "}\n",
        "\n",
        "add_task() {\n",
        "        read -p \"Enter your new task: \" TASK\n",
        "        if [[ -z \"$TASK\" ]]; then\n",
        "                echo \"Task cannot be empty.\"\n",
        "        else\n",
        "                echo \"$TASK\" >> \"$TODO_FILE\"\n",
        "                echo \"Task added successfully!\"\n",
        "        fi\n",
        "}\n",
        "\n",
        "remove_task() {\n",
        "        view_tasks\n",
        "        if [[ ! -s \"$TODO_FILE\" ]]; then\n",
        "                return\n",
        "        fi\n",
        "        read -p \"Enter the task number to remove: \" NUM\n",
        "        if [[ \"$NUM\" =~ ^[0-9]+$ ]]; then\n",
        "                sed -i \"${NUM}d\" \"$TODO_FILE\"\n",
        "                echo \"Task #$NUM removed successfully!\"\n",
        "        else\n",
        "                echo \"Invalid input. Please enter a number.\"\n",
        "        fi\n",
        "}\n",
        "\n",
        "while true; do\n",
        "        show_menu\n",
        "        read -p \"Choose an option (1-4): \" CHOICE\n",
        "        case \"$CHOICE\" in\n",
        "                1) view_tasks ;;\n",
        "                2) add_task ;;\n",
        "                3) remove_task ;;\n",
        "                4) echo \"Goodbye!\"; exit 0 ;;\n",
        "                *) echo \"Invalid choice. Please try again.\" ;;\n",
        "        esac\n",
        "done"
      ],
      "metadata": {
        "id": "2xUyqNNbjhnM"
      },
      "execution_count": null,
      "outputs": []
    },
    {
      "cell_type": "code",
      "source": [
        "# Task 6: Automated Software Installation\n",
        "'''\n",
        "Write a script that\n",
        "- Reads a list of software package names from a file (e.g., packages.txt)\n",
        "- Installs each package using the appropriate package manager (apt, yum, etc.)\n",
        "- Logs the installation status of each package. '''"
      ],
      "metadata": {
        "id": "MXh31ebDkmpF"
      },
      "execution_count": null,
      "outputs": []
    },
    {
      "cell_type": "code",
      "source": [
        "Task 6 - Automated Software Installation - Solution\n",
        "\n",
        "#!/bin/bash\n",
        "\n",
        "PKG_FILE=\"packages.txt\"\n",
        "\n",
        "LOG_FILE=\"$HOME/Desktop/bash_dir/package_install.log\"\n",
        "\n",
        "if [[ ! -f \"$PKG_FILE\" ]]; then\n",
        "        echo \"ERROR: File '$PKG_FILE' not found!\"\n",
        "        exit 1\n",
        "fi\n",
        "\n",
        "if command -v apt &>/dev/null; then\n",
        "        PKG_MANAGER=\"apt\"\n",
        "        INSTALL_CMD=\"sudo apt install -y\"\n",
        "elif command -v dnf &>/dev/null; then\n",
        "        PKG_MANAGER=\"dnf\"\n",
        "        INSTALL_CMD=\"sudo dnf install -y\"\n",
        "elif command -v yum &>/dev/null; then\n",
        "        PKG_MANAGER=\"yum\"\n",
        "        INSTALL_CMD=\"sudo yum install -y\"\n",
        "elif command -v pacman &>/dev/null; then\n",
        "        PKG_MANAGER=\"pacman\"\n",
        "        INSTALL_CMD=\"sudo pacman -S --noconfirm\"\n",
        "else\n",
        "        echo \"ERROR: No supported package manager found (apt, dnf, yum, pacman).\" | tee -a \"$LOG_FILE\"\n",
        "        exit 1\n",
        "fi\n",
        "\n",
        "echo \"Using package manager: $PKG_MANAGER\"\n",
        "echo \"Logging installation results to: $LOG_FILE\"\n",
        "echo \"------------------------------------------\" >> \"$LOG_FILE\"\n",
        "echo \"Installation Log - $(date)\" >> \"$LOG_FILE\"\n",
        "echo \"------------------------------------------\" >> \"$LOG_FILE\"\n",
        "\n",
        "while IFS= read -r PACKAGE || [[ -n \"$PACKAGE\" ]]; do\n",
        "        [[ -z \"$PACKAGE\" ]] && continue\n",
        "        echo \"Installing: $PACKAGE ...\"\n",
        "        if $INSTALL_CMD \"$PACKAGE\" &>/dev/null; then\n",
        "                echo \"SUCCESS: $PACKAGE installed successfully.\" | tee -a \"$LOG_FILE\"\n",
        "        else\n",
        "                echo \"FAILED: $PACKAGE installation failed.\" | tee -a \"$LOG_FILE\"\n",
        "        fi\n",
        "done < \"$PKG_FILE\"\n",
        "\n",
        "echo\n",
        "echo \"Installation process complete. Check '$LOG_FILE' for details.\"\n"
      ],
      "metadata": {
        "id": "qeXNxYi7lABh"
      },
      "execution_count": null,
      "outputs": []
    },
    {
      "cell_type": "code",
      "source": [
        "# Task 7: Text File Processing\n",
        "'''\n",
        "Create a script that\n",
        "- Takes a text file as input\n",
        "- Counts and displays the number of lines, words, and characters in the file\n",
        "- Finds and displays the longest word in the file.'''"
      ],
      "metadata": {
        "id": "kTvPNe6NnSGq"
      },
      "execution_count": null,
      "outputs": []
    },
    {
      "cell_type": "code",
      "source": [
        "Task 7 - Text File Processing - Solution\n",
        "\n",
        "#!/bin/bash\n",
        "\n",
        "read -p \"Enter the file(with path): \" FILE_PATH\n",
        "\n",
        "if [ ! -f \"$FILE_PATH\" ]; then\n",
        "        echo \"ERROR: File '${FILE_PATH}' not found!\"\n",
        "        exit 1\n",
        "else\n",
        "        echo \"SUCCESS: File '${FILE_PATH}' found! Processing...\"\n",
        "fi\n",
        "\n",
        "LINES=$(wc -l < \"$FILE_PATH\")\n",
        "WORDS=$(wc -w < \"$FILE_PATH\")\n",
        "CHARS=$(wc -m < \"$FILE_PATH\")\n",
        "\n",
        "LONGEST_WORD=$(tr -s '[:space:]' '\\n' < \"$FILE_PATH\" | awk '{ print length, $0 }' | sort -nr | head -n 1 | awk '{ print $2 }')\n",
        "\n",
        "echo \"Number of lines: $LINES\"\n",
        "echo \"Number of words: $WORDS\"\n",
        "echo \"Number of chars: $CHARS\"\n",
        "echo \"Longest word is: $LONGEST_WORD\""
      ],
      "metadata": {
        "id": "Q8VTu4bjnbJ4"
      },
      "execution_count": null,
      "outputs": []
    }
  ]
}